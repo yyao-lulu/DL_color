{
 "cells": [
  {
   "cell_type": "code",
   "execution_count": 0,
   "metadata": {
    "colab": {},
    "colab_type": "code",
    "id": "6ao-JFaulDlA"
   },
   "outputs": [],
   "source": [
    "import tensorflow as tf\n",
    "tf.enable_eager_execution()\n",
    "\n",
    "from tensorflow.keras.preprocessing.text import Tokenizer\n",
    "from tensorflow.keras.preprocessing.sequence import pad_sequences\n",
    "\n",
    "import csv\n",
    "import matplotlib.pyplot as plt\n",
    "import numpy as np\n",
    "import os"
   ]
  },
  {
   "cell_type": "code",
   "execution_count": 2,
   "metadata": {
    "colab": {
     "base_uri": "https://localhost:8080/",
     "height": 258
    },
    "colab_type": "code",
    "id": "Bmm0DUpnlNAw",
    "outputId": "fd7e63cb-835b-4d59-8c36-f58ecad738ea"
   },
   "outputs": [
    {
     "name": "stdout",
     "output_type": "stream",
     "text": [
      "  % Total    % Received % Xferd  Average Speed   Time    Time     Time  Current\n",
      "                                 Dload  Upload   Total   Spent    Left  Speed\n",
      "\r",
      "  0     0    0     0    0     0      0      0 --:--:-- --:--:-- --:--:--     0\r",
      "100  323k  100  323k    0     0  1349k      0 --:--:-- --:--:-- --:--:-- 1349k\n",
      "name,red,green,blue\n",
      "parakeet,174,182,87\n",
      "saddle brown,88,52,1\n",
      "cucumber crush,222,237,215\n",
      "pool blue,134,194,201\n",
      "distance,98,110,130\n",
      "light urple,179,111,246\n",
      "east side,172,145,206\n",
      "florida seashells,250,228,199\n",
      "paris,145,167,189\n"
     ]
    }
   ],
   "source": [
    "# Download the colors dataset\n",
    "if not os.path.exists('colors.csv'):\n",
    "  !curl -O 'https://raw.githubusercontent.com/random-forests/datasets/master/colors.csv'\n",
    "!head colors.csv"
   ]
  },
  {
   "cell_type": "code",
   "execution_count": 28,
   "metadata": {
    "colab": {
     "base_uri": "https://localhost:8080/",
     "height": 71
    },
    "colab_type": "code",
    "id": "A_hCjUoElOOo",
    "outputId": "2bae4254-2c22-419d-fef1-3437275c62a0"
   },
   "outputs": [
    {
     "name": "stdout",
     "output_type": "stream",
     "text": [
      "14157 colors downloaded\n",
      "For example ('parakeet', 0.6823529411764706, 0.7137254901960784, 0.3411764705882353)\n"
     ]
    }
   ],
   "source": [
    "# Read the data\n",
    "colors_rgb = []\n",
    "csv_reader = csv.reader(open('colors.csv'), delimiter=',')\n",
    "next(csv_reader) # Remove the header\n",
    "for row in csv_reader:\n",
    "    name, r, g, b = row[0].lower().strip(), float(row[1]) / 255.0, float(row[2]) / 255.0, float(row[3]) / 255.0\n",
    "    colors_rgb.append((name, r, g, b))\n",
    "print(len(colors_rgb), 'colors downloaded')\n",
    "print('For example', colors_rgb[0])"
   ]
  },
  {
   "cell_type": "code",
   "execution_count": 0,
   "metadata": {
    "colab": {},
    "colab_type": "code",
    "id": "ISanLTTkm2qq"
   },
   "outputs": [],
   "source": [
    "names = [item[0] for item in colors_rgb]"
   ]
  },
  {
   "cell_type": "code",
   "execution_count": 30,
   "metadata": {
    "colab": {
     "base_uri": "https://localhost:8080/",
     "height": 34
    },
    "colab_type": "code",
    "id": "L1sjZ_tYnGNE",
    "outputId": "12399fa7-3a28-41a6-8d93-340ee007ba57"
   },
   "outputs": [
    {
     "name": "stdout",
     "output_type": "stream",
     "text": [
      "(14157, 25)\n"
     ]
    }
   ],
   "source": [
    "maxlen = 25\n",
    "t = Tokenizer(char_level=True)\n",
    "t.fit_on_texts(names)\n",
    "tokenized = t.texts_to_sequences(names)\n",
    "padded_names = pad_sequences(tokenized, maxlen=maxlen)\n",
    "padded_names = padded_names.astype('float32')\n",
    "print(padded_names.shape)\n"
   ]
  },
  {
   "cell_type": "code",
   "execution_count": 31,
   "metadata": {
    "colab": {
     "base_uri": "https://localhost:8080/",
     "height": 34
    },
    "colab_type": "code",
    "id": "JOQIb8CdnGuV",
    "outputId": "0ba2b13a-3668-4efb-e362-60ef2a9827e4"
   },
   "outputs": [
    {
     "name": "stdout",
     "output_type": "stream",
     "text": [
      "(14157, 3)\n"
     ]
    }
   ],
   "source": [
    "r = [item[1] for item in colors_rgb]\n",
    "g = [item[2] for item in colors_rgb]\n",
    "b = [item[3] for item in colors_rgb]\n",
    "targets = np.column_stack([r, g, b])\n",
    "print(targets.shape)"
   ]
  },
  {
   "cell_type": "code",
   "execution_count": 32,
   "metadata": {
    "colab": {
     "base_uri": "https://localhost:8080/",
     "height": 306
    },
    "colab_type": "code",
    "id": "rG_R0s_mnI2O",
    "outputId": "baef5481-9116-4fbd-bc50-99416ae7b150"
   },
   "outputs": [
    {
     "name": "stdout",
     "output_type": "stream",
     "text": [
      "_________________________________________________________________\n",
      "Layer (type)                 Output Shape              Param #   \n",
      "=================================================================\n",
      "reshape (Reshape)            (None, 1, 25)             0         \n",
      "_________________________________________________________________\n",
      "gru_2 (GRU)                  (None, 1, 128)            59136     \n",
      "_________________________________________________________________\n",
      "gru_3 (GRU)                  (None, 128)               98688     \n",
      "_________________________________________________________________\n",
      "dense_2 (Dense)              (None, 64)                8256      \n",
      "_________________________________________________________________\n",
      "dense_3 (Dense)              (None, 3)                 195       \n",
      "=================================================================\n",
      "Total params: 166,275\n",
      "Trainable params: 166,275\n",
      "Non-trainable params: 0\n",
      "_________________________________________________________________\n"
     ]
    }
   ],
   "source": [
    "model = tf.keras.Sequential()\n",
    "model.add(tf.keras.layers.Reshape((1, maxlen), input_shape=(maxlen,)))\n",
    "model.add(tf.keras.layers.GRU(128,return_sequences=True))\n",
    "model.add(tf.keras.layers.GRU(128))\n",
    "model.add(tf.keras.layers.Dense(64, activation='relu'))\n",
    "model.add(tf.keras.layers.Dense(3, activation='sigmoid'))\n",
    "model.compile(optimizer=tf.train.AdamOptimizer(), \n",
    "              loss='mse', metrics=['acc'])\n",
    "model.summary()"
   ]
  },
  {
   "cell_type": "code",
   "execution_count": 45,
   "metadata": {
    "colab": {
     "base_uri": "https://localhost:8080/",
     "height": 377
    },
    "colab_type": "code",
    "id": "sqOfMfWxoGiE",
    "outputId": "44f9589a-b591-4405-99e3-f540f1b53416"
   },
   "outputs": [
    {
     "name": "stdout",
     "output_type": "stream",
     "text": [
      "Epoch 1/10\n",
      "399/399 [==============================] - 13s 33ms/step - loss: 0.0533 - acc: 0.6581 - val_loss: 0.0594 - val_acc: 0.6525\n",
      "Epoch 2/10\n",
      "399/399 [==============================] - 13s 33ms/step - loss: 0.0519 - acc: 0.6636 - val_loss: 0.0592 - val_acc: 0.6554\n",
      "Epoch 3/10\n",
      "399/399 [==============================] - 13s 34ms/step - loss: 0.0506 - acc: 0.6572 - val_loss: 0.0595 - val_acc: 0.6469\n",
      "Epoch 4/10\n",
      "399/399 [==============================] - 13s 33ms/step - loss: 0.0493 - acc: 0.6600 - val_loss: 0.0594 - val_acc: 0.6264\n",
      "Epoch 5/10\n",
      "399/399 [==============================] - 14s 34ms/step - loss: 0.0479 - acc: 0.6592 - val_loss: 0.0594 - val_acc: 0.6660\n",
      "Epoch 6/10\n",
      "399/399 [==============================] - 13s 34ms/step - loss: 0.0467 - acc: 0.6603 - val_loss: 0.0584 - val_acc: 0.6398\n",
      "Epoch 7/10\n",
      "399/399 [==============================] - 13s 34ms/step - loss: 0.0453 - acc: 0.6624 - val_loss: 0.0589 - val_acc: 0.6540\n",
      "Epoch 8/10\n",
      "399/399 [==============================] - 13s 34ms/step - loss: 0.0441 - acc: 0.6661 - val_loss: 0.0590 - val_acc: 0.6377\n",
      "Epoch 9/10\n",
      "399/399 [==============================] - 13s 33ms/step - loss: 0.0428 - acc: 0.6661 - val_loss: 0.0592 - val_acc: 0.6462\n",
      "Epoch 10/10\n",
      "399/399 [==============================] - 13s 33ms/step - loss: 0.0418 - acc: 0.6606 - val_loss: 0.0598 - val_acc: 0.6624\n"
     ]
    }
   ],
   "source": [
    "# we're going to massively overfit on the training\n",
    "# data... that's fine for this experiment\n",
    "history = model.fit(padded_names, targets, epochs=10, validation_split=0.1)"
   ]
  },
  {
   "cell_type": "code",
   "execution_count": 46,
   "metadata": {
    "colab": {
     "base_uri": "https://localhost:8080/",
     "height": 280
    },
    "colab_type": "code",
    "id": "yzQX11aDoUZ2",
    "outputId": "79389dae-a889-4b6a-cfb8-43ad0be27579"
   },
   "outputs": [
    {
     "data": {
      "image/png": "[encoded data removed]",
      "text/plain": [
       "<matplotlib.figure.Figure at 0x7f8078ca9eb8>"
      ]
     },
     "metadata": {
      "tags": []
     },
     "output_type": "display_data"
    }
   ],
   "source": [
    "# let's see how badly we've overfit\n",
    "# (don't worry about it for this assignment)\n",
    "import matplotlib.pyplot as plt\n",
    "%matplotlib inline\n",
    "loss = history.history['loss']\n",
    "val_loss = history.history['val_loss']\n",
    "epochs = range(len(loss))\n",
    "plt.plot(epochs, loss, 'bo')\n",
    "plt.plot(epochs, val_loss, 'b')\n",
    "plt.title('Training and validation loss')\n",
    "plt.show()"
   ]
  },
  {
   "cell_type": "code",
   "execution_count": 0,
   "metadata": {
    "colab": {},
    "colab_type": "code",
    "id": "_IYXreehqc7f"
   },
   "outputs": [],
   "source": [
    "# plots a color image\n",
    "def plot_rgb(rgb):\n",
    "    data = [[rgb]]\n",
    "    plt.figure(figsize=(2,2))\n",
    "    plt.imshow(data, interpolation='nearest')\n",
    "    plt.axis('off')\n",
    "    plt.show()"
   ]
  },
  {
   "cell_type": "code",
   "execution_count": 0,
   "metadata": {
    "colab": {},
    "colab_type": "code",
    "id": "Fc5TsbxQqep1"
   },
   "outputs": [],
   "source": [
    "def scale(n):\n",
    "    return int(n * 255)"
   ]
  },
  {
   "cell_type": "code",
   "execution_count": 0,
   "metadata": {
    "colab": {},
    "colab_type": "code",
    "id": "_e1E5PMTqhcd"
   },
   "outputs": [],
   "source": [
    "def predict(name):\n",
    "    tokenized = t.texts_to_sequences([name])\n",
    "    padded = pad_sequences(tokenized, maxlen=maxlen)\n",
    "    padded = padded.astype('float32')\n",
    "    pred = model.predict(np.array(padded))[0]\n",
    "    # Check the shapes here if you run into trouble with the next \n",
    "    # method after adding your RNN\n",
    "    print(pred)\n",
    "    r, g, b = scale(pred[0]), scale(pred[1]), scale(pred[2])\n",
    "    print(name + ',', 'R,G,B:', r,g,b)\n",
    "    plot_rgb(pred)"
   ]
  },
  {
   "cell_type": "code",
   "execution_count": 52,
   "metadata": {
    "colab": {
     "base_uri": "https://localhost:8080/",
     "height": 539
    },
    "colab_type": "code",
    "id": "C2rwJDV9qjJN",
    "outputId": "92233336-d474-4c4c-be96-4c82d7dc95b3"
   },
   "outputs": [
    {
     "name": "stdout",
     "output_type": "stream",
     "text": [
      "[0.3654126 0.5644635 0.7783384]\n",
      "light blue, R,G,B: 93 143 198\n"
     ]
    },
    {
     "data": {
      "image/png": "[encoded data removed]",
      "text/plain": [
       "<matplotlib.figure.Figure at 0x7f806f23a048>"
      ]
     },
     "metadata": {
      "tags": []
     },
     "output_type": "display_data"
    },
    {
     "name": "stdout",
     "output_type": "stream",
     "text": [
      "[0.29048815 0.45687884 0.70089835]\n",
      "blue, R,G,B: 74 116 178\n"
     ]
    },
    {
     "data": {
      "image/png": "[encoded data removed]",
      "text/plain": [
       "<matplotlib.figure.Figure at 0x7f806f206c18>"
      ]
     },
     "metadata": {
      "tags": []
     },
     "output_type": "display_data"
    },
    {
     "name": "stdout",
     "output_type": "stream",
     "text": [
      "[0.17626226 0.29781497 0.5370119 ]\n",
      "dark blue, R,G,B: 44 75 136\n"
     ]
    },
    {
     "data": {
      "image/png": "[encoded data removed]",
      "text/plain": [
       "<matplotlib.figure.Figure at 0x7f8071e73c18>"
      ]
     },
     "metadata": {
      "tags": []
     },
     "output_type": "display_data"
    }
   ],
   "source": [
    "# some \"test\" data\n",
    "predict(\"light blue\")\n",
    "predict(\"blue\")\n",
    "predict(\"dark blue\")"
   ]
  }
 ],
 "metadata": {
  "accelerator": "TPU",
  "colab": {
   "collapsed_sections": [],
   "name": "a4_part2.ipynb",
   "provenance": [],
   "version": "0.3.2"
  },
  "kernelspec": {
   "display_name": "Python 3",
   "language": "python",
   "name": "python3"
  },
  "language_info": {
   "codemirror_mode": {
    "name": "ipython",
    "version": 3
   },
   "file_extension": ".py",
   "mimetype": "text/x-python",
   "name": "python",
   "nbconvert_exporter": "python",
   "pygments_lexer": "ipython3",
   "version": "3.6.7"
  }
 },
 "nbformat": 4,
 "nbformat_minor": 1
}
